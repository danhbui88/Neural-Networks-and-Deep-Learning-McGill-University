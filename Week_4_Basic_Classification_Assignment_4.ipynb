{
  "nbformat": 4,
  "nbformat_minor": 0,
  "metadata": {
    "colab": {
      "name": "Week 4 Basic Classification Assignment 4.ipynb",
      "version": "0.3.2",
      "provenance": [],
      "collapsed_sections": []
    },
    "kernelspec": {
      "name": "python3",
      "display_name": "Python 3"
    }
  },
  "cells": [
    {
      "metadata": {
        "id": "yjYBBpAk1uHi",
        "colab_type": "code",
        "colab": {}
      },
      "cell_type": "code",
      "source": [
        "import tensorflow as tf\n",
        "from tensorflow import keras\n",
        "from tensorflow.keras.models import Sequential\n",
        "from tensorflow.keras.layers import Dense\n",
        "from tensorflow.keras.layers import Flatten\n",
        "from tensorflow.keras.optimizers import Adam\n",
        "from tensorflow.keras.optimizers import SGD\n",
        "from tensorflow.keras.optimizers import Adagrad\n",
        "import numpy as np\n",
        "import matplotlib.pyplot as plt\n"
      ],
      "execution_count": 0,
      "outputs": []
    },
    {
      "metadata": {
        "id": "hcplcS5s1-RI",
        "colab_type": "code",
        "outputId": "1f493a58-c485-47a7-a63d-9ef96c74fa78",
        "colab": {
          "base_uri": "https://localhost:8080/",
          "height": 153
        }
      },
      "cell_type": "code",
      "source": [
        "#Getting the data fashion_mnist from keras\n",
        "fashion_mnist = keras.datasets.fashion_mnist\n",
        "(train_images, train_labels), (test_images, test_labels) = fashion_mnist.load_data()"
      ],
      "execution_count": 0,
      "outputs": [
        {
          "output_type": "stream",
          "text": [
            "Downloading data from https://storage.googleapis.com/tensorflow/tf-keras-datasets/train-labels-idx1-ubyte.gz\n",
            "32768/29515 [=================================] - 0s 0us/step\n",
            "Downloading data from https://storage.googleapis.com/tensorflow/tf-keras-datasets/train-images-idx3-ubyte.gz\n",
            "26427392/26421880 [==============================] - 0s 0us/step\n",
            "Downloading data from https://storage.googleapis.com/tensorflow/tf-keras-datasets/t10k-labels-idx1-ubyte.gz\n",
            "8192/5148 [===============================================] - 0s 0us/step\n",
            "Downloading data from https://storage.googleapis.com/tensorflow/tf-keras-datasets/t10k-images-idx3-ubyte.gz\n",
            "4423680/4422102 [==============================] - 0s 0us/step\n"
          ],
          "name": "stdout"
        }
      ]
    },
    {
      "metadata": {
        "id": "XVPHZhNq3wbA",
        "colab_type": "code",
        "outputId": "810685ec-a5a7-4418-f04a-f69ec138de2f",
        "colab": {
          "base_uri": "https://localhost:8080/",
          "height": 34
        }
      },
      "cell_type": "code",
      "source": [
        "train_images.shape"
      ],
      "execution_count": 0,
      "outputs": [
        {
          "output_type": "execute_result",
          "data": {
            "text/plain": [
              "(60000, 28, 28)"
            ]
          },
          "metadata": {
            "tags": []
          },
          "execution_count": 10
        }
      ]
    },
    {
      "metadata": {
        "id": "z_DgZVUI4CxJ",
        "colab_type": "code",
        "colab": {}
      },
      "cell_type": "code",
      "source": [
        "#we have 60,000 samples and each of them represented by 28x28 pixels"
      ],
      "execution_count": 0,
      "outputs": []
    },
    {
      "metadata": {
        "id": "LeVUX9jB38WY",
        "colab_type": "code",
        "outputId": "f1376488-1b3e-416c-ca4d-535a3d64a1d3",
        "colab": {
          "base_uri": "https://localhost:8080/",
          "height": 34
        }
      },
      "cell_type": "code",
      "source": [
        "train_labels\n"
      ],
      "execution_count": 0,
      "outputs": [
        {
          "output_type": "execute_result",
          "data": {
            "text/plain": [
              "array([9, 0, 0, ..., 3, 0, 5], dtype=uint8)"
            ]
          },
          "metadata": {
            "tags": []
          },
          "execution_count": 12
        }
      ]
    },
    {
      "metadata": {
        "id": "Kba-jION2_5v",
        "colab_type": "code",
        "colab": {}
      },
      "cell_type": "code",
      "source": [
        "#The images are 28x28 NumPy arrays, with pixel values ranging between 0 and 255, since we need the output between 0-1\n",
        "train_images = train_images / 255.0\n",
        "\n",
        "test_images = test_images / 255.0"
      ],
      "execution_count": 0,
      "outputs": []
    },
    {
      "metadata": {
        "id": "Y4U5Eqk1uPZ8",
        "colab_type": "code",
        "colab": {}
      },
      "cell_type": "code",
      "source": [
        "def get_new_model(input_shape=(28,28)):\n",
        "  model = Sequential()\n",
        "  model.add(Flatten(input_shape=(28, 28)))\n",
        "  model.add(Dense(128, activation='relu'))\n",
        "  model.add(Dense(10, activation='softmax'))\n",
        "  return(model)\n",
        "  "
      ],
      "execution_count": 0,
      "outputs": []
    },
    {
      "metadata": {
        "id": "1sbdbV6svhU1",
        "colab_type": "code",
        "colab": {}
      },
      "cell_type": "code",
      "source": [
        "lr_to_test=[1E-7,1E-6,1E-5,1E-4,1E-3,1E-2,1E-1,1E0,1E1,1E2]"
      ],
      "execution_count": 0,
      "outputs": []
    },
    {
      "metadata": {
        "id": "k9MqVpSA2oTv",
        "colab_type": "code",
        "outputId": "f162f3e9-7efd-4778-a5f6-d4e80e038d94",
        "colab": {
          "base_uri": "https://localhost:8080/",
          "height": 2397
        }
      },
      "cell_type": "code",
      "source": [
        "Adam_acc=[]\n",
        "for lr in lr_to_test:\n",
        "  print('\\n\\nTesting Adam model with learning rate: %f\\n'%lr )\n",
        "  model1 = get_new_model()\n",
        "  optimizer1 = Adam(lr=lr)\n",
        "  model1.compile(optimizer=optimizer1,loss='sparse_categorical_crossentropy',metrics=['accuracy'])\n",
        "  h1=model1.fit(train_images,train_labels,epochs=5)\n",
        "  Adam_acc.append(max(h1.history['acc']))\n"
      ],
      "execution_count": 0,
      "outputs": [
        {
          "output_type": "stream",
          "text": [
            "\n",
            "\n",
            "Testing Adam model with learning rate: 0.000000\n",
            "\n",
            "Epoch 1/5\n",
            "60000/60000 [==============================] - 15s 255us/sample - loss: 2.3025 - acc: 0.0539\n",
            "Epoch 2/5\n",
            "60000/60000 [==============================] - 15s 246us/sample - loss: 2.3023 - acc: 0.0733\n",
            "Epoch 3/5\n",
            "60000/60000 [==============================] - 15s 253us/sample - loss: 2.3021 - acc: 0.0970\n",
            "Epoch 4/5\n",
            "60000/60000 [==============================] - 15s 253us/sample - loss: 2.3019 - acc: 0.1255\n",
            "Epoch 5/5\n",
            "60000/60000 [==============================] - 15s 247us/sample - loss: 2.3017 - acc: 0.1568\n",
            "\n",
            "\n",
            "Testing Adam model with learning rate: 0.000001\n",
            "\n",
            "Epoch 1/5\n",
            "60000/60000 [==============================] - 16s 270us/sample - loss: 2.3013 - acc: 0.1771\n",
            "Epoch 2/5\n",
            "60000/60000 [==============================] - 13s 212us/sample - loss: 2.2990 - acc: 0.3961\n",
            "Epoch 3/5\n",
            "60000/60000 [==============================] - 15s 250us/sample - loss: 2.2970 - acc: 0.4386\n",
            "Epoch 4/5\n",
            "60000/60000 [==============================] - 15s 255us/sample - loss: 2.2949 - acc: 0.4438\n",
            "Epoch 5/5\n",
            "60000/60000 [==============================] - 10s 161us/sample - loss: 2.2926 - acc: 0.4554\n",
            "\n",
            "\n",
            "Testing Adam model with learning rate: 0.000010\n",
            "\n",
            "Epoch 1/5\n",
            "60000/60000 [==============================] - 15s 256us/sample - loss: 2.2914 - acc: 0.4556\n",
            "Epoch 2/5\n",
            "60000/60000 [==============================] - 15s 250us/sample - loss: 2.2630 - acc: 0.5921\n",
            "Epoch 3/5\n",
            "60000/60000 [==============================] - 15s 247us/sample - loss: 2.2254 - acc: 0.5990\n",
            "Epoch 4/5\n",
            "60000/60000 [==============================] - 15s 254us/sample - loss: 2.1801 - acc: 0.5953\n",
            "Epoch 5/5\n",
            "60000/60000 [==============================] - 15s 246us/sample - loss: 2.1278 - acc: 0.5901\n",
            "\n",
            "\n",
            "Testing Adam model with learning rate: 0.000100\n",
            "\n",
            "Epoch 1/5\n",
            "60000/60000 [==============================] - 16s 268us/sample - loss: 2.0280 - acc: 0.5515\n",
            "Epoch 2/5\n",
            "60000/60000 [==============================] - 15s 255us/sample - loss: 1.4412 - acc: 0.5890\n",
            "Epoch 3/5\n",
            "60000/60000 [==============================] - 15s 246us/sample - loss: 1.1471 - acc: 0.6539\n",
            "Epoch 4/5\n",
            "60000/60000 [==============================] - 15s 253us/sample - loss: 0.9858 - acc: 0.6945\n",
            "Epoch 5/5\n",
            "60000/60000 [==============================] - 9s 153us/sample - loss: 0.8834 - acc: 0.7164\n",
            "\n",
            "\n",
            "Testing Adam model with learning rate: 0.001000\n",
            "\n",
            "Epoch 1/5\n",
            "60000/60000 [==============================] - 15s 256us/sample - loss: 1.0770 - acc: 0.6648\n",
            "Epoch 2/5\n",
            "60000/60000 [==============================] - 14s 240us/sample - loss: 0.6359 - acc: 0.7723\n",
            "Epoch 3/5\n",
            "60000/60000 [==============================] - 15s 252us/sample - loss: 0.5607 - acc: 0.7991\n",
            "Epoch 4/5\n",
            "60000/60000 [==============================] - 15s 257us/sample - loss: 0.5183 - acc: 0.8165\n",
            "Epoch 5/5\n",
            "60000/60000 [==============================] - 15s 255us/sample - loss: 0.4907 - acc: 0.8263\n",
            "\n",
            "\n",
            "Testing Adam model with learning rate: 0.010000\n",
            "\n",
            "Epoch 1/5\n",
            "60000/60000 [==============================] - 16s 271us/sample - loss: 0.6238 - acc: 0.7757\n",
            "Epoch 2/5\n",
            "60000/60000 [==============================] - 15s 245us/sample - loss: 0.4399 - acc: 0.8411\n",
            "Epoch 3/5\n",
            "60000/60000 [==============================] - 13s 212us/sample - loss: 0.3991 - acc: 0.8554\n",
            "Epoch 4/5\n",
            "60000/60000 [==============================] - 16s 273us/sample - loss: 0.3746 - acc: 0.8630\n",
            "Epoch 5/5\n",
            "60000/60000 [==============================] - 11s 179us/sample - loss: 0.3541 - acc: 0.8709\n",
            "\n",
            "\n",
            "Testing Adam model with learning rate: 0.100000\n",
            "\n",
            "Epoch 1/5\n",
            "60000/60000 [==============================] - 15s 257us/sample - loss: 0.5539 - acc: 0.7968\n",
            "Epoch 2/5\n",
            "60000/60000 [==============================] - 15s 254us/sample - loss: 0.4545 - acc: 0.8360\n",
            "Epoch 3/5\n",
            "60000/60000 [==============================] - 16s 259us/sample - loss: 0.4255 - acc: 0.8466\n",
            "Epoch 4/5\n",
            "60000/60000 [==============================] - 15s 247us/sample - loss: 0.4121 - acc: 0.8522\n",
            "Epoch 5/5\n",
            "60000/60000 [==============================] - 16s 264us/sample - loss: 0.4074 - acc: 0.8524\n",
            "\n",
            "\n",
            "Testing Adam model with learning rate: 1.000000\n",
            "\n",
            "Epoch 1/5\n",
            "60000/60000 [==============================] - 16s 266us/sample - loss: 14.4990 - acc: 0.1001\n",
            "Epoch 2/5\n",
            "60000/60000 [==============================] - 15s 253us/sample - loss: 14.5063 - acc: 0.1000\n",
            "Epoch 3/5\n",
            "60000/60000 [==============================] - 15s 257us/sample - loss: 14.5063 - acc: 0.1000\n",
            "Epoch 4/5\n",
            "60000/60000 [==============================] - 15s 254us/sample - loss: 14.5063 - acc: 0.1000\n",
            "Epoch 5/5\n",
            "60000/60000 [==============================] - 16s 261us/sample - loss: 14.5063 - acc: 0.1000\n",
            "\n",
            "\n",
            "Testing Adam model with learning rate: 10.000000\n",
            "\n",
            "Epoch 1/5\n",
            "60000/60000 [==============================] - 16s 266us/sample - loss: 14.4715 - acc: 0.1018\n",
            "Epoch 2/5\n",
            "60000/60000 [==============================] - 13s 219us/sample - loss: 14.5063 - acc: 0.1000\n",
            "Epoch 3/5\n",
            "60000/60000 [==============================] - 16s 264us/sample - loss: 14.5063 - acc: 0.1000\n",
            "Epoch 4/5\n",
            "60000/60000 [==============================] - 16s 269us/sample - loss: 14.5063 - acc: 0.1000\n",
            "Epoch 5/5\n",
            "60000/60000 [==============================] - 11s 178us/sample - loss: 14.5063 - acc: 0.1000\n",
            "\n",
            "\n",
            "Testing Adam model with learning rate: 100.000000\n",
            "\n",
            "Epoch 1/5\n",
            "60000/60000 [==============================] - 16s 269us/sample - loss: 14.5008 - acc: 0.1000\n",
            "Epoch 2/5\n",
            "60000/60000 [==============================] - 15s 243us/sample - loss: 14.5063 - acc: 0.1000\n",
            "Epoch 3/5\n",
            "60000/60000 [==============================] - 16s 261us/sample - loss: 14.5063 - acc: 0.1000\n",
            "Epoch 4/5\n",
            "60000/60000 [==============================] - 13s 213us/sample - loss: 14.5063 - acc: 0.1000\n",
            "Epoch 5/5\n",
            "60000/60000 [==============================] - 11s 183us/sample - loss: 14.5063 - acc: 0.1000\n"
          ],
          "name": "stdout"
        }
      ]
    },
    {
      "metadata": {
        "id": "xb6bwNb3C0XY",
        "colab_type": "code",
        "outputId": "86765b46-1277-465e-8db9-eebc32088842",
        "colab": {
          "base_uri": "https://localhost:8080/",
          "height": 2397
        }
      },
      "cell_type": "code",
      "source": [
        "SGD_acc=[]\n",
        "for lr in lr_to_test:  \n",
        "  print('\\n\\nTesting SGD model with learning rate: %f\\n'%lr )\n",
        "  model2=get_new_model()\n",
        "  optimizer2 = SGD(lr=lr)\n",
        "  model2.compile(optimizer=optimizer2,loss='sparse_categorical_crossentropy',metrics=['accuracy'])\n",
        "  h2=model2.fit(train_images,train_labels,epochs=5)\n",
        "  SGD_acc.append(max(h2.history['acc']))"
      ],
      "execution_count": 0,
      "outputs": [
        {
          "output_type": "stream",
          "text": [
            "\n",
            "\n",
            "Testing SGD model with learning rate: 0.000000\n",
            "\n",
            "Epoch 1/5\n",
            "60000/60000 [==============================] - 15s 249us/sample - loss: 2.3028 - acc: 0.1242\n",
            "Epoch 2/5\n",
            "60000/60000 [==============================] - 13s 219us/sample - loss: 2.3028 - acc: 0.1244\n",
            "Epoch 3/5\n",
            "60000/60000 [==============================] - 7s 118us/sample - loss: 2.3028 - acc: 0.1245\n",
            "Epoch 4/5\n",
            "60000/60000 [==============================] - 14s 241us/sample - loss: 2.3028 - acc: 0.1246\n",
            "Epoch 5/5\n",
            "60000/60000 [==============================] - 7s 120us/sample - loss: 2.3028 - acc: 0.1248\n",
            "\n",
            "\n",
            "Testing SGD model with learning rate: 0.000001\n",
            "\n",
            "Epoch 1/5\n",
            "60000/60000 [==============================] - 15s 258us/sample - loss: 2.3025 - acc: 0.0627\n",
            "Epoch 2/5\n",
            "60000/60000 [==============================] - 7s 123us/sample - loss: 2.3025 - acc: 0.0636\n",
            "Epoch 3/5\n",
            "60000/60000 [==============================] - 13s 216us/sample - loss: 2.3025 - acc: 0.0648\n",
            "Epoch 4/5\n",
            "60000/60000 [==============================] - 7s 121us/sample - loss: 2.3025 - acc: 0.0658\n",
            "Epoch 5/5\n",
            "60000/60000 [==============================] - 13s 217us/sample - loss: 2.3025 - acc: 0.0669\n",
            "\n",
            "\n",
            "Testing SGD model with learning rate: 0.000010\n",
            "\n",
            "Epoch 1/5\n",
            "60000/60000 [==============================] - 15s 247us/sample - loss: 2.3027 - acc: 0.0792\n",
            "Epoch 2/5\n",
            "60000/60000 [==============================] - 7s 124us/sample - loss: 2.3026 - acc: 0.0971\n",
            "Epoch 3/5\n",
            "60000/60000 [==============================] - 13s 218us/sample - loss: 2.3025 - acc: 0.1124\n",
            "Epoch 4/5\n",
            "60000/60000 [==============================] - 7s 120us/sample - loss: 2.3024 - acc: 0.1255\n",
            "Epoch 5/5\n",
            "60000/60000 [==============================] - 13s 216us/sample - loss: 2.3023 - acc: 0.1370\n",
            "\n",
            "\n",
            "Testing SGD model with learning rate: 0.000100\n",
            "\n",
            "Epoch 1/5\n",
            "60000/60000 [==============================] - 15s 246us/sample - loss: 2.3020 - acc: 0.1833\n",
            "Epoch 2/5\n",
            "60000/60000 [==============================] - 13s 218us/sample - loss: 2.3015 - acc: 0.1284\n",
            "Epoch 3/5\n",
            "60000/60000 [==============================] - 8s 134us/sample - loss: 2.3013 - acc: 0.1105\n",
            "Epoch 4/5\n",
            "60000/60000 [==============================] - 13s 216us/sample - loss: 2.3012 - acc: 0.1048\n",
            "Epoch 5/5\n",
            "60000/60000 [==============================] - 7s 124us/sample - loss: 2.3011 - acc: 0.1020\n",
            "\n",
            "\n",
            "Testing SGD model with learning rate: 0.001000\n",
            "\n",
            "Epoch 1/5\n",
            "60000/60000 [==============================] - 15s 246us/sample - loss: 2.3015 - acc: 0.1894\n",
            "Epoch 2/5\n",
            "60000/60000 [==============================] - 13s 221us/sample - loss: 2.3011 - acc: 0.2283\n",
            "Epoch 3/5\n",
            "60000/60000 [==============================] - 7s 120us/sample - loss: 2.3010 - acc: 0.1992\n",
            "Epoch 4/5\n",
            "60000/60000 [==============================] - 15s 243us/sample - loss: 2.3010 - acc: 0.2214\n",
            "Epoch 5/5\n",
            "60000/60000 [==============================] - 13s 220us/sample - loss: 2.3009 - acc: 0.2034\n",
            "\n",
            "\n",
            "Testing SGD model with learning rate: 0.010000\n",
            "\n",
            "Epoch 1/5\n",
            "60000/60000 [==============================] - 15s 253us/sample - loss: 2.3009 - acc: 0.1328\n",
            "Epoch 2/5\n",
            "60000/60000 [==============================] - 13s 218us/sample - loss: 2.3000 - acc: 0.1353\n",
            "Epoch 3/5\n",
            "60000/60000 [==============================] - 8s 130us/sample - loss: 2.2990 - acc: 0.1631\n",
            "Epoch 4/5\n",
            "60000/60000 [==============================] - 13s 221us/sample - loss: 2.2981 - acc: 0.1871\n",
            "Epoch 5/5\n",
            "60000/60000 [==============================] - 7s 121us/sample - loss: 2.2969 - acc: 0.1712\n",
            "\n",
            "\n",
            "Testing SGD model with learning rate: 0.100000\n",
            "\n",
            "Epoch 1/5\n",
            "60000/60000 [==============================] - 15s 253us/sample - loss: 2.2982 - acc: 0.1185\n",
            "Epoch 2/5\n",
            "60000/60000 [==============================] - 13s 224us/sample - loss: 2.2782 - acc: 0.1751\n",
            "Epoch 3/5\n",
            "60000/60000 [==============================] - 7s 123us/sample - loss: 2.2035 - acc: 0.2741\n",
            "Epoch 4/5\n",
            "60000/60000 [==============================] - 13s 217us/sample - loss: 2.0059 - acc: 0.3706\n",
            "Epoch 5/5\n",
            "60000/60000 [==============================] - 7s 121us/sample - loss: 1.7390 - acc: 0.4376\n",
            "\n",
            "\n",
            "Testing SGD model with learning rate: 1.000000\n",
            "\n",
            "Epoch 1/5\n",
            "60000/60000 [==============================] - 15s 242us/sample - loss: 2.3099 - acc: 0.0981\n",
            "Epoch 2/5\n",
            "60000/60000 [==============================] - 8s 133us/sample - loss: 2.3099 - acc: 0.1000\n",
            "Epoch 3/5\n",
            "60000/60000 [==============================] - 14s 241us/sample - loss: 2.3101 - acc: 0.0996\n",
            "Epoch 4/5\n",
            "60000/60000 [==============================] - 13s 216us/sample - loss: 2.3103 - acc: 0.0984\n",
            "Epoch 5/5\n",
            "60000/60000 [==============================] - 8s 129us/sample - loss: 2.3099 - acc: 0.0998\n",
            "\n",
            "\n",
            "Testing SGD model with learning rate: 10.000000\n",
            "\n",
            "Epoch 1/5\n",
            "60000/60000 [==============================] - 15s 245us/sample - loss: 2.4739 - acc: 0.0990\n",
            "Epoch 2/5\n",
            "60000/60000 [==============================] - 8s 134us/sample - loss: 2.4735 - acc: 0.1005\n",
            "Epoch 3/5\n",
            "60000/60000 [==============================] - 14s 240us/sample - loss: 2.4685 - acc: 0.1004\n",
            "Epoch 4/5\n",
            "60000/60000 [==============================] - 8s 131us/sample - loss: 2.4754 - acc: 0.0987\n",
            "Epoch 5/5\n",
            "60000/60000 [==============================] - 14s 239us/sample - loss: 2.4773 - acc: 0.0996\n",
            "\n",
            "\n",
            "Testing SGD model with learning rate: 100.000000\n",
            "\n",
            "Epoch 1/5\n",
            "60000/60000 [==============================] - 15s 244us/sample - loss: 14.4968 - acc: 0.1000\n",
            "Epoch 2/5\n",
            "60000/60000 [==============================] - 8s 131us/sample - loss: 14.5063 - acc: 0.1000\n",
            "Epoch 3/5\n",
            "60000/60000 [==============================] - 14s 234us/sample - loss: 14.5063 - acc: 0.1000\n",
            "Epoch 4/5\n",
            "60000/60000 [==============================] - 8s 127us/sample - loss: 14.5063 - acc: 0.1000\n",
            "Epoch 5/5\n",
            "60000/60000 [==============================] - 14s 237us/sample - loss: 14.5063 - acc: 0.1000\n"
          ],
          "name": "stdout"
        }
      ]
    },
    {
      "metadata": {
        "id": "U3naAtmQC2WU",
        "colab_type": "code",
        "outputId": "a41c3683-acbf-4e5a-d3b0-ed6bf26018c0",
        "colab": {
          "base_uri": "https://localhost:8080/",
          "height": 2397
        }
      },
      "cell_type": "code",
      "source": [
        "Adagrad_acc=[]\n",
        "for lr in lr_to_test:  \n",
        "  print('\\n\\nTesting Adagrad model with learning rate: %f\\n'%lr )\n",
        "  model3=get_new_model()\n",
        "  optimizer3 = Adagrad(lr=lr)\n",
        "  model3.compile(optimizer=optimizer3,loss='sparse_categorical_crossentropy',metrics=['accuracy'])\n",
        "  h3=model3.fit(train_images,train_labels,epochs=5)\n",
        "  Adagrad_acc.append(max(h3.history['acc']))"
      ],
      "execution_count": 0,
      "outputs": [
        {
          "output_type": "stream",
          "text": [
            "\n",
            "\n",
            "Testing Adagrad model with learning rate: 0.000000\n",
            "\n",
            "Epoch 1/5\n",
            "60000/60000 [==============================] - 12s 203us/sample - loss: 2.3026 - acc: 0.1120\n",
            "Epoch 2/5\n",
            "60000/60000 [==============================] - 11s 186us/sample - loss: 2.3026 - acc: 0.1128\n",
            "Epoch 3/5\n",
            "60000/60000 [==============================] - 11s 191us/sample - loss: 2.3026 - acc: 0.1132\n",
            "Epoch 4/5\n",
            "60000/60000 [==============================] - 11s 186us/sample - loss: 2.3026 - acc: 0.1137\n",
            "Epoch 5/5\n",
            "60000/60000 [==============================] - 11s 175us/sample - loss: 2.3026 - acc: 0.1138\n",
            "\n",
            "\n",
            "Testing Adagrad model with learning rate: 0.000001\n",
            "\n",
            "Epoch 1/5\n",
            "60000/60000 [==============================] - 12s 196us/sample - loss: 2.3030 - acc: 0.0675\n",
            "Epoch 2/5\n",
            "60000/60000 [==============================] - 10s 169us/sample - loss: 2.3030 - acc: 0.0725\n",
            "Epoch 3/5\n",
            "60000/60000 [==============================] - 12s 195us/sample - loss: 2.3029 - acc: 0.0754\n",
            "Epoch 4/5\n",
            "60000/60000 [==============================] - 11s 186us/sample - loss: 2.3029 - acc: 0.0779\n",
            "Epoch 5/5\n",
            "60000/60000 [==============================] - 8s 138us/sample - loss: 2.3029 - acc: 0.0800\n",
            "\n",
            "\n",
            "Testing Adagrad model with learning rate: 0.000010\n",
            "\n",
            "Epoch 1/5\n",
            "60000/60000 [==============================] - 12s 194us/sample - loss: 2.3016 - acc: 0.1471\n",
            "Epoch 2/5\n",
            "60000/60000 [==============================] - 11s 182us/sample - loss: 2.3011 - acc: 0.1822\n",
            "Epoch 3/5\n",
            "60000/60000 [==============================] - 11s 179us/sample - loss: 2.3007 - acc: 0.2093\n",
            "Epoch 4/5\n",
            "60000/60000 [==============================] - 10s 165us/sample - loss: 2.3004 - acc: 0.2369\n",
            "Epoch 5/5\n",
            "60000/60000 [==============================] - 11s 190us/sample - loss: 2.3001 - acc: 0.2618\n",
            "\n",
            "\n",
            "Testing Adagrad model with learning rate: 0.000100\n",
            "\n",
            "Epoch 1/5\n",
            "60000/60000 [==============================] - 11s 191us/sample - loss: 2.2961 - acc: 0.4240\n",
            "Epoch 2/5\n",
            "60000/60000 [==============================] - 11s 184us/sample - loss: 2.2905 - acc: 0.4983\n",
            "Epoch 3/5\n",
            "60000/60000 [==============================] - 12s 193us/sample - loss: 2.2865 - acc: 0.5162\n",
            "Epoch 4/5\n",
            "60000/60000 [==============================] - 11s 185us/sample - loss: 2.2831 - acc: 0.5520\n",
            "Epoch 5/5\n",
            "60000/60000 [==============================] - 11s 187us/sample - loss: 2.2799 - acc: 0.5749\n",
            "\n",
            "\n",
            "Testing Adagrad model with learning rate: 0.001000\n",
            "\n",
            "Epoch 1/5\n",
            "60000/60000 [==============================] - 12s 192us/sample - loss: 2.1944 - acc: 0.5795\n",
            "Epoch 2/5\n",
            "60000/60000 [==============================] - 10s 171us/sample - loss: 2.0369 - acc: 0.5951\n",
            "Epoch 3/5\n",
            "60000/60000 [==============================] - 11s 186us/sample - loss: 1.9147 - acc: 0.5908\n",
            "Epoch 4/5\n",
            "60000/60000 [==============================] - 11s 190us/sample - loss: 1.8173 - acc: 0.5854\n",
            "Epoch 5/5\n",
            "60000/60000 [==============================] - 12s 196us/sample - loss: 1.7378 - acc: 0.5847\n",
            "\n",
            "\n",
            "Testing Adagrad model with learning rate: 0.010000\n",
            "\n",
            "Epoch 1/5\n",
            "60000/60000 [==============================] - 12s 208us/sample - loss: 1.2940 - acc: 0.6329\n",
            "Epoch 2/5\n",
            "60000/60000 [==============================] - 10s 166us/sample - loss: 0.9130 - acc: 0.7176\n",
            "Epoch 3/5\n",
            "60000/60000 [==============================] - 11s 189us/sample - loss: 0.8124 - acc: 0.7349\n",
            "Epoch 4/5\n",
            "60000/60000 [==============================] - 12s 200us/sample - loss: 0.7605 - acc: 0.7429\n",
            "Epoch 5/5\n",
            "60000/60000 [==============================] - 10s 168us/sample - loss: 0.7280 - acc: 0.7483\n",
            "\n",
            "\n",
            "Testing Adagrad model with learning rate: 0.100000\n",
            "\n",
            "Epoch 1/5\n",
            "60000/60000 [==============================] - 12s 192us/sample - loss: 0.6413 - acc: 0.7718\n",
            "Epoch 2/5\n",
            "60000/60000 [==============================] - 11s 183us/sample - loss: 0.5084 - acc: 0.8200\n",
            "Epoch 3/5\n",
            "60000/60000 [==============================] - 12s 192us/sample - loss: 0.4773 - acc: 0.8321\n",
            "Epoch 4/5\n",
            "60000/60000 [==============================] - 10s 162us/sample - loss: 0.4591 - acc: 0.8389\n",
            "Epoch 5/5\n",
            "60000/60000 [==============================] - 11s 182us/sample - loss: 0.4470 - acc: 0.8424\n",
            "\n",
            "\n",
            "Testing Adagrad model with learning rate: 1.000000\n",
            "\n",
            "Epoch 1/5\n",
            "60000/60000 [==============================] - 12s 199us/sample - loss: 14.4993 - acc: 0.0999\n",
            "Epoch 2/5\n",
            "60000/60000 [==============================] - 12s 193us/sample - loss: 14.5063 - acc: 0.1000\n",
            "Epoch 3/5\n",
            "60000/60000 [==============================] - 11s 188us/sample - loss: 14.5063 - acc: 0.1000\n",
            "Epoch 4/5\n",
            "60000/60000 [==============================] - 11s 184us/sample - loss: 14.5063 - acc: 0.1000\n",
            "Epoch 5/5\n",
            "60000/60000 [==============================] - 11s 187us/sample - loss: 14.5063 - acc: 0.1000\n",
            "\n",
            "\n",
            "Testing Adagrad model with learning rate: 10.000000\n",
            "\n",
            "Epoch 1/5\n",
            "60000/60000 [==============================] - 12s 200us/sample - loss: 14.5000 - acc: 0.1000\n",
            "Epoch 2/5\n",
            "60000/60000 [==============================] - 9s 156us/sample - loss: 14.5063 - acc: 0.1000\n",
            "Epoch 3/5\n",
            "60000/60000 [==============================] - 11s 181us/sample - loss: 14.5063 - acc: 0.1000\n",
            "Epoch 4/5\n",
            "60000/60000 [==============================] - 11s 187us/sample - loss: 14.5063 - acc: 0.1000\n",
            "Epoch 5/5\n",
            "60000/60000 [==============================] - 11s 191us/sample - loss: 14.5063 - acc: 0.1000\n",
            "\n",
            "\n",
            "Testing Adagrad model with learning rate: 100.000000\n",
            "\n",
            "Epoch 1/5\n",
            "60000/60000 [==============================] - 12s 196us/sample - loss: 14.3665 - acc: 0.1083\n",
            "Epoch 2/5\n",
            "60000/60000 [==============================] - 11s 180us/sample - loss: 14.5063 - acc: 0.1000\n",
            "Epoch 3/5\n",
            "60000/60000 [==============================] - 10s 159us/sample - loss: 14.5063 - acc: 0.1000\n",
            "Epoch 4/5\n",
            "60000/60000 [==============================] - 9s 145us/sample - loss: 14.5063 - acc: 0.1000\n",
            "Epoch 5/5\n",
            "60000/60000 [==============================] - 11s 189us/sample - loss: 14.5063 - acc: 0.1000\n"
          ],
          "name": "stdout"
        }
      ]
    },
    {
      "metadata": {
        "id": "nCJ5G0EU_ps-",
        "colab_type": "code",
        "outputId": "a5de99c2-9f67-4112-b40b-ccb329b7b5d7",
        "colab": {
          "base_uri": "https://localhost:8080/",
          "height": 68
        }
      },
      "cell_type": "code",
      "source": [
        "print(max(Adam_acc))\n",
        "print(max(SGD_acc))\n",
        "print(max(Adagrad_acc))\n"
      ],
      "execution_count": 0,
      "outputs": [
        {
          "output_type": "stream",
          "text": [
            "0.87095\n",
            "0.43761668\n",
            "0.84243333\n"
          ],
          "name": "stdout"
        }
      ]
    },
    {
      "metadata": {
        "id": "pPoqerVl_3vd",
        "colab_type": "code",
        "outputId": "340f85b9-cf80-4b79-d097-c5a8aad54cb8",
        "colab": {
          "base_uri": "https://localhost:8080/",
          "height": 376
        }
      },
      "cell_type": "code",
      "source": [
        "xi = [i for i in range(0, len(lr_to_test))]\n",
        "plt.plot(xi,Adam_acc,label=\"Adam\",color='r')\n",
        "plt.plot(xi,SGD_acc,label='SGD',color='b')\n",
        "plt.plot(xi,Adagrad_acc,label='Adagrad',color='green')\n",
        "plt.ylim(0,1)\n",
        "plt.xlabel('Learning Rates')\n",
        "plt.ylabel('Accuracy') \n",
        "plt.xticks(xi, lr_to_test)\n",
        "plt.title('Accuracy and Learning Rate Comparison between 3 different Optimizers')\n",
        "plt.legend(loc='best') \n",
        "plt.show()\n",
        "plt.show()\n"
      ],
      "execution_count": 0,
      "outputs": [
        {
          "output_type": "display_data",
          "data": {
            "image/png": "[encoded data removed]",
            "text/plain": [
              "<Figure size 576x396 with 1 Axes>"
            ]
          },
          "metadata": {
            "tags": []
          }
        }
      ]
    },
    {
      "metadata": {
        "id": "oiE7a9xThAfb",
        "colab_type": "code",
        "colab": {}
      },
      "cell_type": "code",
      "source": [
        ""
      ],
      "execution_count": 0,
      "outputs": []
    }
  ]
}